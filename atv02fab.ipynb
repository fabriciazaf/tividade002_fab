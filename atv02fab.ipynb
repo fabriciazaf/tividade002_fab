{
 "cells": [
  {
   "cell_type": "markdown",
   "id": "4097a65c-2881-4fa8-9f07-64f37115cdf2",
   "metadata": {},
   "source": [
    "### 01 - Teste de gravidez\r\n",
    "Escreva uma célula com controle de fluxos que tem como premissa a existência das seguintes variáveis:\r\n",
    "\r\n",
    "- ```sexo``` como ```str``` indicando os valores '**M**' para masculino e '**F**' para feminino  \r\n",
    "- ```beta_hcg``` que indica a quantidade do beta-HCG no sangue em mUI/mL.\r\n",
    "\r\n",
    "A sua tarefa é escrever um código que imprima como resultado \"indivíduo do sexo masculino\" quando sexo = 'M', caso sexo = 'F', se o valor de beta-HCG for maior que 5, retorne \"Positivo\" indicando que a paciente está grávida, e retorne \"Negativo\" caso contrário.\r\n",
    "\r\n",
    "Não mexa nos valores da variável ```sexo``` nem em ```beta_hcg```, e escreva um código que funcione para quaisquer valores possíveis de ambos: ```sexo``` = '**M**' ou '**F**' e ```beta_hcg``` assumindo valores inteiros positivos."
   ]
  },
  {
   "cell_type": "code",
   "execution_count": 39,
   "id": "6d1cb688-27bb-4080-bacd-c61930c8d84e",
   "metadata": {},
   "outputs": [
    {
     "name": "stdout",
     "output_type": "stream",
     "text": [
      "Indivíduo do sexo masculino\n"
     ]
    }
   ],
   "source": [
    "sexo = 'M'  \n",
    "beta_hcg = 0  \n",
    "\n",
    "# seu código vem abaixo desta linha\n",
    "if sexo == 'M':\n",
    "    print(\"Indivíduo do sexo masculino\")\n",
    "elif sexo == 'F':\n",
    "    if beta_hcg > 5:\n",
    "        print(\"Positivo\")\n",
    "    elif beta_hcg <= 5:\n",
    "        print(\"Negativo\")\n",
    "else:\n",
    "    print(\"Valor de sexo inválido\")\n"
   ]
  },
  {
   "cell_type": "markdown",
   "id": "c56513c1-d183-4842-8d23-d5d3c0430903",
   "metadata": {},
   "source": [
    "### 02 - Renomeando variáveis\r\n",
    "\r\n",
    "Vamos ver adiante que uma forma de renomear variáveis de um conjunto de dados é através de dicionários - o dicionário deve conter como chave o nome original, associando a cada chave um único valor (tipo *str*) que contenha o nome novo.\r\n",
    "\r\n",
    "A sua tarefa é escrever um dicionário que possa ser utilizado para traduzir as variáveis ```name``` (nome), ```age``` (idade) e ```income``` (renda). Ou seja, esse dicionário deve relacionar as chaves *name, age* e *income* às suas respectivas traduções."
   ]
  },
  {
   "cell_type": "code",
   "execution_count": 85,
   "id": "0d57c116-9da2-449f-9c6a-5043f69a881e",
   "metadata": {},
   "outputs": [
    {
     "name": "stdout",
     "output_type": "stream",
     "text": [
      "dict_renomeacao\n",
      "<class 'dict'>\n"
     ]
    }
   ],
   "source": [
    "dic_renomeacao = {\n",
    "    'name': 'Nome',\n",
    "    'age': 'Idade',\n",
    "    'income': 'Renda'\n",
    "}\n",
    "\n",
    "# Verificando o conteúdo e o tipo do dicionário\n",
    "print('dict_renomeacao')\n",
    "print(type(renomear_variaveis))"
   ]
  },
  {
   "cell_type": "markdown",
   "id": "1f9e2aac-d3a4-40d0-9046-6a328d35bbc6",
   "metadata": {},
   "source": [
    "### 03 - É divisível?\n",
    "A sua tarefa é escrever um código que indique se um número ```N``` é divisível por um número P. Escreva um programa que faça essa verificação para quaisquer combinações de ```N``` e ```M``` e devolva uma mensagem indicativa no output.\n",
    "\n"
   ]
  },
  {
   "cell_type": "code",
   "execution_count": 96,
   "id": "dfa9640d-4dbe-4ea1-b315-0da0f4fd134a",
   "metadata": {},
   "outputs": [
    {
     "name": "stdout",
     "output_type": "stream",
     "text": [
      "42 é divisível por 7.\n"
     ]
    }
   ],
   "source": [
    "N = 42\n",
    "M = 7\n",
    "\n",
    "#Seu código\n",
    "if M != 0:  # Garantindo que P não seja zero para evitar divisão por zero\n",
    "    if N % M == 0:\n",
    "        print(f\"{N} é divisível por {M}.\") # f recurso do Python para incorporar variáveis diretamente dentro de uma string de forma mais legível\n",
    "    else:\n",
    "        print(f\"{N} não é divisível por {M}.\")\n",
    "else:\n",
    "    print(\"Divisão por zero não é permitida.\")\n",
    "\n",
    "\n",
    "\n"
   ]
  },
  {
   "cell_type": "markdown",
   "id": "b6bcea2e-343a-4d50-a5b6-fce914bf35ef",
   "metadata": {},
   "source": [
    "### 04 - Números primos\n",
    "> Um número **N** é primo se e somente se é divisível por 1, -1, por **N** e por -**N**.  \n",
    "\n",
    "Escreva um script que verifica se ```N``` é um número primo, verificando se ```N``` é divisível por todos os números de ```1``` a ```N-1```. Você vai precisar usar alguma ferramenta de *loop* que você aprendeu para isto. No final, devolva uma mensagem no output indicando se o número é primo ou não."
   ]
  },
  {
   "cell_type": "code",
   "execution_count": 105,
   "id": "d64e2a2b-2f75-4158-8ecb-37aeba25f963",
   "metadata": {},
   "outputs": [],
   "source": [
    "N = 47\n",
    "\n",
    "#seu código abaixo\n",
    "\n",
    "if N < 2:\n",
    "    print(f\"{N} não é primo.\")\n",
    "\n",
    "else:\n",
    "    primo = True\n",
    "    for i in range (2, N):\n",
    "        if N % i == 0:\n",
    "            primo = False\n",
    "            break"
   ]
  },
  {
   "cell_type": "code",
   "execution_count": 103,
   "id": "c2ad6898-cf75-42f1-8622-c846706a827b",
   "metadata": {},
   "outputs": [
    {
     "name": "stdout",
     "output_type": "stream",
     "text": [
      "47 é um número primo.\n"
     ]
    }
   ],
   "source": [
    "   # Exibe o resultado\n",
    "if primo:\n",
    "    print(f\"{N} é um número primo.\")\n",
    "else:\n",
    "    print(f\"{N} não é um número primo.\")"
   ]
  },
  {
   "cell_type": "markdown",
   "id": "d8e6f8b2-e2d0-47da-a8c3-64cc9187261f",
   "metadata": {},
   "source": [
    "### 05 - Desafio\n",
    "O algorítmo do exercício anterior não é o mais eficiente. O que você pode fazer para deixá-lo mais eficiente? Ou seja, executar menos comparações, portanto consumir menos tempo.\n",
    "1. Será que precisamos correr o loop até o final sempre?\n",
    "2. Será que precisamos mesmo verificar **todos** os números?\n",
    "3. Será que precisamos ir até N-1?\n",
    "\n",
    "Essas perguntas levam ao tipo de pensamento voltado a deixar um algoritmo mais eficiente. Veja se você consegue melhorar o seu."
   ]
  },
  {
   "cell_type": "code",
   "execution_count": 118,
   "id": "a5d5604b-d7a2-4980-917f-3035c0c015c5",
   "metadata": {},
   "outputs": [
    {
     "name": "stdout",
     "output_type": "stream",
     "text": [
      "98 não é um número primo.\n"
     ]
    }
   ],
   "source": [
    "import math\n",
    "\n",
    "N = 98\n",
    "\n",
    "# seu código aqui\n",
    "\n",
    "if N < 2:\n",
    "    print(f\" {N} (Não é primo.\")\n",
    "elif N==2:\n",
    "    print(f\" {N} (Não é primo.\")\n",
    "\n",
    "else:\n",
    "    # Vamos presumir que `N` é primo até encontrarmos um divisor\n",
    "    primo = True\n",
    "\n",
    "    # Checamos apenas até a raiz quadrada e pulamos números pares\n",
    "    for i in range(3, int(math.sqrt(N)) + 1, 2):\n",
    "        if N % i == 0:  # Encontramos um divisor\n",
    "            primo = False\n",
    "            break  # Saímos do loop mais cedo\n",
    "\n",
    "    # Mostra o resultado\n",
    "    if primo:\n",
    "        print(f\"{N} é um número primo.\")\n",
    "    else:\n",
    "        print(f\"{N} não é um número primo.\")"
   ]
  },
  {
   "cell_type": "markdown",
   "id": "b0915981-9a56-403e-8ee5-b1d3bae9a59b",
   "metadata": {},
   "source": [
    "### 06 - Peso ideal 1\n",
    "O IMC (índice de massa corpórea) é um indicador de saúde mais bem aceito que o peso. Ele é calculado como:\n",
    "\n",
    "$$ IMC = \\dfrac{peso}{altura^2}$$\n",
    "\n",
    "Segundo a OMS, valores *normais* são entre 18.5 e 24.9.\n",
    "\n",
    "Sua tarefa é encontrar o ponto médio dessa faixa."
   ]
  },
  {
   "cell_type": "code",
   "execution_count": 121,
   "id": "7cfc7fbc-2a86-4d26-9c62-b6d2f2826aa5",
   "metadata": {},
   "outputs": [
    {
     "name": "stdout",
     "output_type": "stream",
     "text": [
      " O IMC ideal é 21.7\n"
     ]
    }
   ],
   "source": [
    "imc_ideal = (18.5 + 24.9) / 2 \n",
    "print (' O IMC ideal é', imc_ideal)"
   ]
  },
  {
   "cell_type": "markdown",
   "id": "d961f2ff-bdfe-41f4-8ced-ce2947823d4f",
   "metadata": {},
   "source": [
    "### 07 - Peso ideal 2\n",
    "Recebendo um valor de altura, encontre o peso '*ideal*' dessa pessoa, que fornece o IMC encontrado acima"
   ]
  },
  {
   "cell_type": "code",
   "execution_count": 132,
   "id": "66a8d1fb-ceec-438f-8adc-e488c38ba497",
   "metadata": {},
   "outputs": [
    {
     "name": "stdin",
     "output_type": "stream",
     "text": [
      "Digite sua altura em metros (exemplo: 1.75):  1.70\n"
     ]
    },
    {
     "name": "stdout",
     "output_type": "stream",
     "text": [
      "O peso ideal para essa altura é: 62.71 kg\n"
     ]
    }
   ],
   "source": [
    "altura = 1.70\n",
    "\n",
    "# Seu código\n",
    "\n",
    "imc_ideal = 21.7\n",
    "altura = float(input(\"Digite sua altura em metros (exemplo: 1.75): \"))\n",
    "peso_ideal = imc_ideal * (altura **2) \n",
    "print(\"O peso ideal para essa altura é:\", round(peso_ideal, 2), \"kg\")\n"
   ]
  },
  {
   "cell_type": "code",
   "execution_count": 130,
   "id": "2d9b833a-1a51-4af0-a125-7e8290ab0c1c",
   "metadata": {},
   "outputs": [
    {
     "name": "stdout",
     "output_type": "stream",
     "text": [
      "O peso ideal para essa altura é: 62.71 kg\n"
     ]
    }
   ],
   "source": [
    "# Definindo o IMC ideal\n",
    "imc_ideal = 21.7\n",
    "\n",
    "# Altura definida como 1.70\n",
    "altura = 1.70\n",
    "\n",
    "# Calculando o peso ideal\n",
    "peso_ideal = imc_ideal * (altura ** 2)\n",
    "\n",
    "# Exibindo o peso ideal\n",
    "print(\"O peso ideal para essa altura é:\", round(peso_ideal, 2), \"kg\")\n"
   ]
  },
  {
   "cell_type": "markdown",
   "id": "738b449a-c810-4bd4-a39e-29bb47e39c1e",
   "metadata": {},
   "source": [
    "### 08 - Peso ideal 3\n",
    "Dada uma lista contendo as alturas de pacientes, crie uma nova lista que contenha o peso '*ideal*' (que fornece o IMC calculado em **Peso ideal 1**) desses pacientes."
   ]
  },
  {
   "cell_type": "code",
   "execution_count": 161,
   "id": "598b2e91-ca83-4829-be35-0126a0129851",
   "metadata": {},
   "outputs": [
    {
     "name": "stdout",
     "output_type": "stream",
     "text": [
      "Lista de pesos ideais: [82.51]\n",
      "Lista de pesos ideais: [82.51, 91.19]\n",
      "Lista de pesos ideais: [82.51, 91.19, 62.71]\n",
      "Lista de pesos ideais: [82.51, 91.19, 62.71, 59.08]\n"
     ]
    }
   ],
   "source": [
    "\n",
    "imc_ideal = 21.7\n",
    "lista_alturas = [1.95, 2.05, 1.70, 1.65]\n",
    "lista_peso_ideal = []\n",
    "\n",
    "for altura in lista_alturas:\n",
    "    peso_ideal = imc_ideal *(altura **2)\n",
    "    lista_peso_ideal.append(round(peso_ideal, 2))\n",
    "    \n",
    "    print(\"Lista de pesos ideais:\", lista_peso_ideal)\n",
    "\n"
   ]
  },
  {
   "cell_type": "code",
   "execution_count": 159,
   "id": "8f4c33af-c865-4b92-be99-a1992416e5ca",
   "metadata": {},
   "outputs": [
    {
     "name": "stdout",
     "output_type": "stream",
     "text": [
      "Lista de pesos ideais: [82.51, 91.19, 62.71, 59.08]\n"
     ]
    }
   ],
   "source": [
    "lista_peso_ideal = []\n",
    "\n",
    "# Calculando o peso ideal para cada altura na lista\n",
    "for altura in lista_alturas:\n",
    "    peso_ideal = imc_ideal * (altura **2)  # Calcular o peso ideal\n",
    "    lista_peso_ideal.append(round(peso_ideal, 2))  # Armazenar o peso ideal na lista\n",
    "\n",
    "# Exibindo a lista com os pesos ideais\n",
    "print(\"Lista de pesos ideais:\", lista_peso_ideal)"
   ]
  },
  {
   "cell_type": "markdown",
   "id": "da9a533d-acea-4ca4-9d36-65133a223239",
   "metadata": {},
   "source": [
    "### 09 - Peso ideal 4\n",
    "Dada uma lista de tuplas - cada elemento da lista é uma tupla contendo altura e peso de um paciente - crie uma nova lista com o IMC desses pacientes."
   ]
  },
  {
   "cell_type": "code",
   "execution_count": 177,
   "id": "f3b4fa83-f638-415b-ba47-12a2da4c9eb9",
   "metadata": {},
   "outputs": [
    {
     "name": "stdout",
     "output_type": "stream",
     "text": [
      "Lista de IMCs: [27.78, 27.55, 19.19]\n"
     ]
    }
   ],
   "source": [
    "\n",
    "tupla_altura_peso = [(1.80, 90), (1.65, 75), (1.91, 70)]\n",
    "lista_imc = []\n",
    "\n",
    "# Calculando o IMC para cada paciente na lista de tuplas\n",
    "for altura, peso in tupla_altura_peso:\n",
    "    imc = peso / (altura ** 2)  # Calcula o IMC\n",
    "    lista_imc.append(round(imc, 2))  # Adiciona o IMC arredondado à lista\n",
    "\n",
    "# Exibindo a lista com os IMCs\n",
    "print(\"Lista de IMCs:\", lista_imc)"
   ]
  },
  {
   "cell_type": "markdown",
   "id": "dcdddea4-9a01-47f1-be25-302477d498f5",
   "metadata": {},
   "source": [
    "### 10 - Peso ideal 5\n",
    "Dada uma lista de **listas** - cada elemento da lista é uma **lista** contendo altura e peso de um paciente, adicione mais um elemento à lista de cada paciente contendo o IMC do paciente. Verifique também se é 'baixo', 'normal' ou 'alto' segundo os padrões da OMS em que normal é entre 18.5 e 24.9.\n",
    "\n",
    "Reflexão: por que no problema anterior temos que criar uma nova lista, e não podemos adicionar os dados de cada indivíduo à tupla?"
   ]
  },
  {
   "cell_type": "code",
   "execution_count": 208,
   "id": "d7e71730-e1d2-4724-96d0-37473172322c",
   "metadata": {},
   "outputs": [
    {
     "name": "stdout",
     "output_type": "stream",
     "text": [
      "Lista de pacientes com IMC e classificação:\n",
      "[1.8, 90, 27.78, 'alto']\n",
      "[1.65, 75, 27.55, 'alto']\n",
      "[1.91, 70, 19.19, 'normal']\n"
     ]
    }
   ],
   "source": [
    "# Lista de listas com altura (em metros) e peso (em kg) de pacientes\n",
    "altura_peso = [[1.80, 90], [1.65, 75], [1.91, 70]]\n",
    "\n",
    "# Padrões da OMS para IMC\n",
    "def classificar_imc(imc):\n",
    "    if imc < 18.5:\n",
    "        return \"baixo\"\n",
    "    elif 18.5 <= imc <= 24.9:\n",
    "        return \"normal\"\n",
    "    else:\n",
    "        return \"alto\"\n",
    "\n",
    "# Calculando o IMC e adicionando à lista de cada paciente\n",
    "for paciente in altura_peso:\n",
    "    altura = paciente[0]\n",
    "    peso = paciente[1]\n",
    "    imc = peso / (altura ** 2)  # Calcula o IMC\n",
    "    classificacao = classificar_imc(imc)  # Classifica o IMC\n",
    "    paciente.append(round(imc, 2))  # Adiciona o IMC arredondado à lista\n",
    "    paciente.append(classificacao)  # Adiciona a classificação à lista\n",
    "\n",
    "# Exibindo a lista com as informações atualizadas\n",
    "print(\"Lista de pacientes com IMC e classificação:\")\n",
    "for paciente in altura_peso:\n",
    "    print(paciente)\n"
   ]
  },
  {
   "cell_type": "code",
   "execution_count": null,
   "id": "368e0cdd-e176-4564-9603-3d81c4b4dd2f",
   "metadata": {},
   "outputs": [],
   "source": []
  }
 ],
 "metadata": {
  "kernelspec": {
   "display_name": "Python 3 (ipykernel)",
   "language": "python",
   "name": "python3"
  },
  "language_info": {
   "codemirror_mode": {
    "name": "ipython",
    "version": 3
   },
   "file_extension": ".py",
   "mimetype": "text/x-python",
   "name": "python",
   "nbconvert_exporter": "python",
   "pygments_lexer": "ipython3",
   "version": "3.12.4"
  }
 },
 "nbformat": 4,
 "nbformat_minor": 5
}
